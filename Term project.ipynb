{
 "cells": [
  {
   "cell_type": "code",
   "execution_count": 34,
   "id": "66d7c07b-e79c-49f1-84eb-f99e9e4c9ed4",
   "metadata": {},
   "outputs": [
    {
     "name": "stdout",
     "output_type": "stream",
     "text": [
      "Number of males: 2484\n",
      "Number of females: 1476\n",
      "Number of people aged 5-10: 2294\n",
      "Number of people aged 11-15: 1239\n",
      "Number of people aged 16-22: 427\n",
      "Physical-Season\n",
      "Spring    929\n",
      "Winter    804\n",
      "Summer    791\n",
      "Fall      786\n",
      "Name: count, dtype: int64\n",
      "Fitness_Endurance-Season\n",
      "Spring    385\n",
      "Winter    338\n",
      "Fall      332\n",
      "Summer    253\n",
      "Name: count, dtype: int64\n",
      "FGC-Season\n",
      "Spring    993\n",
      "Summer    844\n",
      "Fall      763\n",
      "Winter    746\n",
      "Name: count, dtype: int64\n",
      "BIA-Season\n",
      "Summer    669\n",
      "Fall      567\n",
      "Spring    513\n",
      "Winter    396\n",
      "Name: count, dtype: int64\n",
      "PCIAT-Season\n",
      "Spring    762\n",
      "Fall      667\n",
      "Summer    659\n",
      "Winter    648\n",
      "Name: count, dtype: int64\n",
      "SDS-Season\n",
      "Spring    712\n",
      "Winter    652\n",
      "Summer    635\n",
      "Fall      619\n",
      "Name: count, dtype: int64\n"
     ]
    }
   ],
   "source": [
    "import pandas as pd\n",
    "import matplotlib.pyplot as plt\n",
    "\n",
    "DF_youth=pd.read_csv('train.csv', sep=',')\n",
    "\n",
    "DF_youth= DF_youth.drop_duplicates(subset='id', keep='first')\n",
    "\n",
    "DF_youth=DF_youth.set_index('id')\n",
    "DF_youth\n",
    "# Count the number of 0's (males) and 1's (females)\n",
    "male_count = (DF_youth['Basic_Demos-Sex'] == 0).sum()\n",
    "female_count = (DF_youth['Basic_Demos-Sex'] == 1).sum()\n",
    "# understanding the distribution of the data\n",
    "# print the count of females and males \n",
    "print(\"Number of males:\", male_count)\n",
    "print(\"Number of females:\", female_count)\n",
    "# Define age ranges and count the number of people within each range\n",
    "age_5_10 = DF_youth[(DF_youth['Basic_Demos-Age'] >= 5) & (DF_youth['Basic_Demos-Age'] <= 10)].shape[0]\n",
    "age_11_15 = DF_youth[(DF_youth['Basic_Demos-Age'] >= 11) & (DF_youth['Basic_Demos-Age'] <= 15)].shape[0]\n",
    "age_16_22 = DF_youth[(DF_youth['Basic_Demos-Age'] >= 16) & (DF_youth['Basic_Demos-Age'] <= 22)].shape[0]\n",
    "\n",
    "# Print the counts of differt age group\n",
    "print(\"Number of people aged 5-10:\", age_5_10)\n",
    "print(\"Number of people aged 11-15:\", age_11_15)\n",
    "print(\"Number of people aged 16-22:\", age_16_22)\n",
    "# the distribution of each season that the data was collected in \n",
    "# Count the number of unique seasons in this column\n",
    "season_counts_physic = DF_youth['Physical-Season'].value_counts()\n",
    "season_counts_Fitness1=DF_youth['Fitness_Endurance-Season'].value_counts()\n",
    "season_counts_Fitness2=DF_youth['FGC-Season'].value_counts()\n",
    "season_counts_BIA = DF_youth['BIA-Season'].value_counts()\n",
    "season_counts_PCIAT= DF_youth['PCIAT-Season'].value_counts()\n",
    "season_counts_SDS= DF_youth['SDS-Season'].value_counts()\n",
    "# Print the counts\n",
    "print(season_counts_physic)\n",
    "print(season_counts_Fitness1)\n",
    "print(season_counts_Fitness2)\n",
    "print(season_counts_BIA)\n",
    "print(season_counts_PCIAT)\n",
    "print(season_counts_SDS)\n",
    "\n"
   ]
  },
  {
   "cell_type": "code",
   "execution_count": null,
   "id": "8640f0e2-1a69-42fc-9d6e-0e07179695e0",
   "metadata": {},
   "outputs": [],
   "source": [
    "#seasonal analysis "
   ]
  }
 ],
 "metadata": {
  "kernelspec": {
   "display_name": "Python 3 (ipykernel)",
   "language": "python",
   "name": "python3"
  },
  "language_info": {
   "codemirror_mode": {
    "name": "ipython",
    "version": 3
   },
   "file_extension": ".py",
   "mimetype": "text/x-python",
   "name": "python",
   "nbconvert_exporter": "python",
   "pygments_lexer": "ipython3",
   "version": "3.12.4"
  }
 },
 "nbformat": 4,
 "nbformat_minor": 5
}
